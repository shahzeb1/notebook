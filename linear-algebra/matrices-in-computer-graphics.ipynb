{
 "cells": [
  {
   "cell_type": "markdown",
   "metadata": {},
   "source": [
    "# The Use of Matrices in Computer Graphics\n",
    "### By Shahzeb Khan\n",
    "For Professor Philley's Linear Algebra class."
   ]
  },
  {
   "cell_type": "code",
   "execution_count": 1,
   "metadata": {
    "collapsed": true
   },
   "outputs": [],
   "source": [
    "%matplotlib inline\n",
    "import numpy as np\n",
    "from pylab import *"
   ]
  },
  {
   "cell_type": "markdown",
   "metadata": {},
   "source": [
    "Let's initialize a square box shape called `box`. Here we are just defining the coordinates needed to make the box. Important to note that computers draw their grid system slightly different than we are use to. The origin `(0,0)` is located at the top left. The y-axis increases downwards. The x-axis is unchanged. Another change in computer graphics is that coordinates are written `(y,x)` instead of `(x,y)`. Both of these changes are a result of CPU's and monitors drawing graphics from the top left downward."
   ]
  },
  {
   "cell_type": "code",
   "execution_count": 51,
   "metadata": {},
   "outputs": [],
   "source": [
    "# Define the coordinates for our box\n",
    "box = np.array([[5,5],\n",
    "               [6,5],\n",
    "               [5,6]])\n",
    "boxLocation = (3, 5); # Where on this grid our box will initially sit"
   ]
  },
  {
   "cell_type": "markdown",
   "metadata": {},
   "source": [
    "Let's go ahead and define a function called `drawShape` can draw any coordinates onto a grid. We have already defined the coordinates for each point of our box so we will use a package called `trutle` to connect all these coordinates together and draw our shape"
   ]
  },
  {
   "cell_type": "code",
   "execution_count": 52,
   "metadata": {
    "collapsed": true
   },
   "outputs": [],
   "source": [
    "def drawShape(coordinates, location):\n",
    "    figure(1)\n",
    "    toDraw = np.zeros((10, 10))\n",
    "    for i in coordinates:\n",
    "        toDraw[i[0]][i[1]] = 1\n",
    "    a = imshow(toDraw, interpolation='nearest')\n",
    "    grid(True)"
   ]
  },
  {
   "cell_type": "code",
   "execution_count": 53,
   "metadata": {},
   "outputs": [
    {
     "data": {
      "image/png": "[encoded data removed]",
      "text/plain": [
       "<matplotlib.figure.Figure at 0x11ab5b198>"
      ]
     },
     "metadata": {},
     "output_type": "display_data"
    }
   ],
   "source": [
    "drawShape(box, boxLocation)"
   ]
  },
  {
   "cell_type": "code",
   "execution_count": null,
   "metadata": {
    "collapsed": true
   },
   "outputs": [],
   "source": []
  }
 ],
 "metadata": {
  "kernelspec": {
   "display_name": "Python 3",
   "language": "python",
   "name": "python3"
  },
  "language_info": {
   "codemirror_mode": {
    "name": "ipython",
    "version": 3
   },
   "file_extension": ".py",
   "mimetype": "text/x-python",
   "name": "python",
   "nbconvert_exporter": "python",
   "pygments_lexer": "ipython3",
   "version": "3.6.3"
  }
 },
 "nbformat": 4,
 "nbformat_minor": 2
}
