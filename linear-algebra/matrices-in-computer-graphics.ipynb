{
 "cells": [
  {
   "cell_type": "markdown",
   "metadata": {},
   "source": [
    "# The Use of Matrices in Computer Graphics\n",
    "### By Shahzeb Khan\n",
    "For Professor Philley's Linear Algebra class."
   ]
  },
  {
   "cell_type": "code",
   "execution_count": 1,
   "metadata": {
    "collapsed": true,
    "hide_input": true
   },
   "outputs": [],
   "source": [
    "%matplotlib inline\n",
    "import numpy as np\n",
    "\n",
    "from pylab import *\n",
    "import matplotlib.pyplot as plt\n",
    "import matplotlib.lines as mlines"
   ]
  },
  {
   "cell_type": "markdown",
   "metadata": {},
   "source": [
    "Let's initialize a square box shape called `box`. Here we are just defining the coordinates needed to make the box. Important to note that computers draw their grid system slightly different than we are use to. The origin `(0,0)` is located at the top left. The y-axis increases positively downwards. The x-axis is unchanged. Another change in computer graphics is that coordinates are written `(y,x)`/`(n,m)` instead of `(x,y)`/`(m,n)`. Both of these changes are a result of monitors conventionally drawing graphics from the top left downward."
   ]
  },
  {
   "cell_type": "code",
   "execution_count": 2,
   "metadata": {
    "collapsed": true
   },
   "outputs": [],
   "source": [
    "# Define the coordinates that make up our box shape in the format of (y,x)\n",
    "box = np.array([[5,5],\n",
    "                [6,5],\n",
    "                [5,6],\n",
    "                [6,6]])"
   ]
  },
  {
   "cell_type": "markdown",
   "metadata": {},
   "source": [
    "Let's go ahead and define a function called `drawShape` which can draw any coordinates onto a grid which is similar to our monitor's. Let's also define a function called `getImageMatrix` which takes any shape matrix and returns a `(10,10)` matrix where everything is 0 except the pixels which create the shape are set to 1."
   ]
  },
  {
   "cell_type": "code",
   "execution_count": 3,
   "metadata": {
    "collapsed": true
   },
   "outputs": [],
   "source": [
    "def drawShape(coordinates):\n",
    "    \"\"\"Draws an image and returns a matrix of that image\"\"\"\n",
    "    figure(1)\n",
    "    imshow(coordinates, interpolation='nearest')\n",
    "    grid(False)\n",
    "    \n",
    "def getImageMatrix(shape, size=10):\n",
    "    \"\"\"Return a (10,10) matrix which contains 1's for the shape\"\"\"\n",
    "    matrix = np.zeros((size, size),dtype=np.int16)\n",
    "    for i in shape:\n",
    "        matrix[i[0]][i[1]] = 1\n",
    "    return matrix"
   ]
  },
  {
   "cell_type": "markdown",
   "metadata": {},
   "source": [
    "Now we can run the `boxShape` function to draw the image while passing in our earlier defined box as the shape we would like to draw:"
   ]
  },
  {
   "cell_type": "code",
   "execution_count": 4,
   "metadata": {},
   "outputs": [
    {
     "data": {
      "image/png": "[encoded data removed]",
      "text/plain": [
       "<matplotlib.figure.Figure at 0x11349e278>"
      ]
     },
     "metadata": {},
     "output_type": "display_data"
    }
   ],
   "source": [
    "boxMatrix = getImageMatrix(box)\n",
    "drawShape(boxMatrix)"
   ]
  },
  {
   "cell_type": "markdown",
   "metadata": {},
   "source": [
    "Now that we have drawn the image using the `drawShape` function, we have also set the variable `boxMatrix` to be the matrix representation of this image. Let's take a look:"
   ]
  },
  {
   "cell_type": "code",
   "execution_count": 5,
   "metadata": {},
   "outputs": [
    {
     "name": "stdout",
     "output_type": "stream",
     "text": [
      "[[0 0 0 0 0 0 0 0 0 0]\n",
      " [0 0 0 0 0 0 0 0 0 0]\n",
      " [0 0 0 0 0 0 0 0 0 0]\n",
      " [0 0 0 0 0 0 0 0 0 0]\n",
      " [0 0 0 0 0 0 0 0 0 0]\n",
      " [0 0 0 0 0 1 1 0 0 0]\n",
      " [0 0 0 0 0 1 1 0 0 0]\n",
      " [0 0 0 0 0 0 0 0 0 0]\n",
      " [0 0 0 0 0 0 0 0 0 0]\n",
      " [0 0 0 0 0 0 0 0 0 0]]\n"
     ]
    }
   ],
   "source": [
    "print(boxMatrix)"
   ]
  },
  {
   "cell_type": "markdown",
   "metadata": {},
   "source": [
    "Notice how every element of the matrix is set to 0 with the exception of 1's appearing at every location that we decided to 'turn on' our box pixels. Now, let's try multiplying this `boxMatrix` with the identity matrix of `[1,0],[0,1]`. We will draw out the result of the matrix multiplication:"
   ]
  },
  {
   "cell_type": "code",
   "execution_count": 6,
   "metadata": {
    "scrolled": true
   },
   "outputs": [
    {
     "data": {
      "image/png": "[encoded data removed]",
      "text/plain": [
       "<matplotlib.figure.Figure at 0x113644a90>"
      ]
     },
     "metadata": {},
     "output_type": "display_data"
    }
   ],
   "source": [
    "identity = np.array([[1,0], # Where the identity matrix is defined\n",
    "                     [0,1]]) \n",
    "identityMul = np.matmul(box, identity) # \n",
    "boxMatrix2 = getImageMatrix(identityMul)\n",
    "drawShape(boxMatrix2)"
   ]
  },
  {
   "cell_type": "markdown",
   "metadata": {},
   "source": [
    "### Vector graphics\n",
    "Now, we are going to need a better way to represent our pixels. Instead of adding boxes (pixels) to our image, we will plot lines (vectors). These lines will act exactly how vector graphics function. Let's go ahead and define the vertices of a shape that resembles the letter \"F\":"
   ]
  },
  {
   "cell_type": "code",
   "execution_count": 7,
   "metadata": {
    "collapsed": true
   },
   "outputs": [],
   "source": [
    "fShape = np.array([[0,0],\n",
    "                   [1,0],\n",
    "                   [1,2],\n",
    "                   [2,2],\n",
    "                   [2,3],\n",
    "                   [1,3],\n",
    "                   [1,4],\n",
    "                   [3,4],\n",
    "                   [3,5],\n",
    "                   [0,5],\n",
    "                   [0,0]])"
   ]
  },
  {
   "cell_type": "markdown",
   "metadata": {},
   "source": [
    "From here on out, we'll go back to the familiar `(x,y)` plot that we know of where the x-axis and y-axis are back to their normal state, and the origin `(0,0)` is in the center of the screen. In order to get our `fShape` matrix to appear on the screen, let us define a function called `drawVector` which takes in a matrix as a `shape` and draws all the individual lines one after another."
   ]
  },
  {
   "cell_type": "code",
   "execution_count": 8,
   "metadata": {
    "collapsed": true
   },
   "outputs": [],
   "source": [
    "# Function which draws any vector onto a plot\n",
    "def drawVector(objs, scale, zoomed = True):\n",
    "    first = True\n",
    "    plt.axhline(0, color='black')\n",
    "    plt.axvline(0, color='black')\n",
    "    for obj in objs:\n",
    "        shape = obj[0]\n",
    "        color = obj[1]\n",
    "        for i in shape:\n",
    "            if first:\n",
    "                last = i\n",
    "                first = False\n",
    "            else:\n",
    "                x = i[0]\n",
    "                y = i[1]\n",
    "                lastx = last[0]\n",
    "                lasty = last[1]\n",
    "                plt.plot([lastx, x], [lasty, y], color) # (x1,x2) (y1,y2)\n",
    "                last = i\n",
    "    if zoomed:\n",
    "        plt.xlim(-1, scale)\n",
    "        plt.ylim(-1, scale)\n",
    "    else:\n",
    "        plt.xlim(-scale, scale)\n",
    "        plt.ylim(-scale, scale)\n",
    "    plt.xlabel(\"x\")\n",
    "    plt.ylabel(\"y\")\n",
    "    plt.gca().set_aspect('equal', adjustable='box')\n",
    "    plt.show()"
   ]
  },
  {
   "cell_type": "markdown",
   "metadata": {},
   "source": [
    "Now that we have a function called `drawVector` we can pass in our `fShape` variable which contains the verticies to create the letter F: "
   ]
  },
  {
   "cell_type": "code",
   "execution_count": 9,
   "metadata": {},
   "outputs": [
    {
     "data": {
      "image/png": "[encoded data removed]",
      "text/plain": [
       "<matplotlib.figure.Figure at 0x1136f99b0>"
      ]
     },
     "metadata": {},
     "output_type": "display_data"
    }
   ],
   "source": [
    "drawVector([[fShape, \"red\"]], 6)"
   ]
  },
  {
   "cell_type": "markdown",
   "metadata": {},
   "source": [
    "### Transformations"
   ]
  },
  {
   "cell_type": "markdown",
   "metadata": {},
   "source": [
    "#### Scaling\n",
    "We can use matrix multiplication to change our graphic's scale. For instance, if we wanted to scale our shape by a factor of 2, we could represent that transformation with the following matrix:"
   ]
  },
  {
   "cell_type": "code",
   "execution_count": 10,
   "metadata": {
    "hide_input": true
   },
   "outputs": [
    {
     "data": {
      "text/latex": [
       "$$\n",
       "\\left(\\begin{array}{cc} s_{x} & 0\\\\ 0 & s_{y} \\end{array}\\right) * \n",
       "\\left({\\begin{array}{cc} x \\\\ y \\end{array}}\\right)\n",
       "$$"
      ],
      "text/plain": [
       "<IPython.core.display.Latex object>"
      ]
     },
     "metadata": {},
     "output_type": "display_data"
    }
   ],
   "source": [
    "%%latex\n",
    "$$\n",
    "\\left(\\begin{array}{cc} s_{x} & 0\\\\ 0 & s_{y} \\end{array}\\right) * \n",
    "\\left({\\begin{array}{cc} x \\\\ y \\end{array}}\\right)\n",
    "$$"
   ]
  },
  {
   "cell_type": "markdown",
   "metadata": {},
   "source": [
    "In the first diagonal matrix, s<sub>x</sub> is the desired scaling factor on the x-axis, and s<sub>y</sub> is the desired scaling factor on the y-axis. In the second matrix, `x` and `y` are the original elements of the vertex location. This matrix multiplication yields the following linear system:"
   ]
  },
  {
   "cell_type": "code",
   "execution_count": 11,
   "metadata": {
    "hide_input": true
   },
   "outputs": [
    {
     "data": {
      "text/latex": [
       "$$(s_{x}*x) + 0y = s_{x}*x$$ \n",
       "$$0x + (s_{y}*y) = s_{y}*y$$"
      ],
      "text/plain": [
       "<IPython.core.display.Latex object>"
      ]
     },
     "metadata": {},
     "output_type": "display_data"
    }
   ],
   "source": [
    "%%latex\n",
    "$$(s_{x}*x) + 0y = s_{x}*x$$ \n",
    "$$0x + (s_{y}*y) = s_{y}*y$$"
   ]
  },
  {
   "cell_type": "markdown",
   "metadata": {},
   "source": [
    "So if we wanted to scale our F shape by a factor of 2, that would look like the following:"
   ]
  },
  {
   "cell_type": "code",
   "execution_count": 12,
   "metadata": {
    "hide_input": true
   },
   "outputs": [
    {
     "data": {
      "text/latex": [
       "$$\n",
       "\\left(\\begin{array}{cc} 2 & 0\\\\ 0 & 2 \\end{array}\\right) * \n",
       "\\left({\\begin{array}{cc} x \\\\ y \\end{array}}\\right) = \n",
       "\\left({\\begin{array}{cc} 2x \\\\ 2y \\end{array}}\\right)\n",
       "$$"
      ],
      "text/plain": [
       "<IPython.core.display.Latex object>"
      ]
     },
     "metadata": {},
     "output_type": "display_data"
    }
   ],
   "source": [
    "%%latex\n",
    "$$\n",
    "\\left(\\begin{array}{cc} 2 & 0\\\\ 0 & 2 \\end{array}\\right) * \n",
    "\\left({\\begin{array}{cc} x \\\\ y \\end{array}}\\right) = \n",
    "\\left({\\begin{array}{cc} 2x \\\\ 2y \\end{array}}\\right)\n",
    "$$"
   ]
  },
  {
   "cell_type": "markdown",
   "metadata": {},
   "source": [
    "Now let's go ahead and draw our original F shape in red and our F shape scaled by `x2` in blue:"
   ]
  },
  {
   "cell_type": "code",
   "execution_count": 13,
   "metadata": {},
   "outputs": [
    {
     "data": {
      "image/png": "[encoded data removed]",
      "text/plain": [
       "<matplotlib.figure.Figure at 0x113846e10>"
      ]
     },
     "metadata": {},
     "output_type": "display_data"
    }
   ],
   "source": [
    "doubleScaleMatrix = np.array([[2,0], # define the matrix we will multiply with\n",
    "                              [0,2]]) \n",
    "doubleScale = np.matmul(fShape, doubleScaleMatrix); # do the matrix mult\n",
    "drawVector([[fShape, \"red\"],[doubleScale, \"blue\"]], 12)"
   ]
  },
  {
   "cell_type": "markdown",
   "metadata": {
    "collapsed": true
   },
   "source": [
    "We don't necessarily need to scale both the x and y elements by the same amount. For instance, the following matrix where we scale the x-axis by `3/2` and the y-axis by `1` is completely valid."
   ]
  },
  {
   "cell_type": "code",
   "execution_count": 14,
   "metadata": {
    "hide_input": true
   },
   "outputs": [
    {
     "data": {
      "text/latex": [
       "$$\n",
       "\\left(\\begin{array}{cc} \\frac{3}{2} & 0\\\\ 0 & 2 \\end{array}\\right) * \n",
       "\\left({\\begin{array}{cc} x \\\\ y \\end{array}}\\right) = \n",
       "\\left({\\begin{array}{cc} \\frac{3}{2}x \\\\ 2y \\end{array}}\\right)\n",
       "$$"
      ],
      "text/plain": [
       "<IPython.core.display.Latex object>"
      ]
     },
     "metadata": {},
     "output_type": "display_data"
    }
   ],
   "source": [
    "%%latex\n",
    "$$\n",
    "\\left(\\begin{array}{cc} \\frac{3}{2} & 0\\\\ 0 & 2 \\end{array}\\right) * \n",
    "\\left({\\begin{array}{cc} x \\\\ y \\end{array}}\\right) = \n",
    "\\left({\\begin{array}{cc} \\frac{3}{2}x \\\\ 2y \\end{array}}\\right)\n",
    "$$"
   ]
  },
  {
   "cell_type": "markdown",
   "metadata": {},
   "source": [
    "This scaling transformation is shown here in green:"
   ]
  },
  {
   "cell_type": "code",
   "execution_count": 52,
   "metadata": {},
   "outputs": [
    {
     "data": {
      "image/png": "[encoded data removed]",
      "text/plain": [
       "<matplotlib.figure.Figure at 0x11b584e10>"
      ]
     },
     "metadata": {},
     "output_type": "display_data"
    }
   ],
   "source": [
    "doubleScaleMatrix2 = np.array([[3/2,0], # define the matrix we will multiply with\n",
    "                              [0,1]]) \n",
    "doubleScale2 = np.matmul(fShape, doubleScaleMatrix2); # do the matrix mult\n",
    "drawVector([[fShape, \"red\"],[doubleScale2, \"blue\"]], 7)"
   ]
  },
  {
   "cell_type": "markdown",
   "metadata": {},
   "source": [
    "#### Reflection\n",
    "Matrices make defining a reflection extremely easy. A reflection is essentially a \"swapping\" of the x and y elements of a location vector. It can be described using the following matrix multiplication:"
   ]
  },
  {
   "cell_type": "code",
   "execution_count": 35,
   "metadata": {
    "hide_input": true
   },
   "outputs": [
    {
     "data": {
      "text/latex": [
       "$$\n",
       "\\left(\\begin{array}{cc} 0 & 1\\\\ 1 & 0 \\end{array}\\right) * \n",
       "\\left({\\begin{array}{cc} x \\\\ y \\end{array}}\\right)\n",
       "$$"
      ],
      "text/plain": [
       "<IPython.core.display.Latex object>"
      ]
     },
     "metadata": {},
     "output_type": "display_data"
    }
   ],
   "source": [
    "%%latex\n",
    "$$\n",
    "\\left(\\begin{array}{cc} 0 & 1\\\\ 1 & 0 \\end{array}\\right) * \n",
    "\\left({\\begin{array}{cc} x \\\\ y \\end{array}}\\right)\n",
    "$$"
   ]
  },
  {
   "cell_type": "markdown",
   "metadata": {},
   "source": [
    "The linear system for this matrix multiplication:"
   ]
  },
  {
   "cell_type": "code",
   "execution_count": 36,
   "metadata": {
    "hide_input": true
   },
   "outputs": [
    {
     "data": {
      "text/latex": [
       "$$0x + 1y = 1y$$ \n",
       "$$1x + 0y = 1x$$"
      ],
      "text/plain": [
       "<IPython.core.display.Latex object>"
      ]
     },
     "metadata": {},
     "output_type": "display_data"
    }
   ],
   "source": [
    "%%latex\n",
    "$$0x + 1y = 1y$$ \n",
    "$$1x + 0y = 1x$$"
   ]
  },
  {
   "cell_type": "markdown",
   "metadata": {},
   "source": [
    "As we can see, multiplying by the matrix `[0,1],[1,0]` successfully flipped the x and y components of the vertex. Let's see this in practice:"
   ]
  },
  {
   "cell_type": "code",
   "execution_count": 53,
   "metadata": {},
   "outputs": [
    {
     "data": {
      "image/png": "[encoded data removed]",
      "text/plain": [
       "<matplotlib.figure.Figure at 0x11b0ccf98>"
      ]
     },
     "metadata": {},
     "output_type": "display_data"
    }
   ],
   "source": [
    "flippedReflectionMatrix = np.array([[0,1], # define the matrix we will multiply with\n",
    "                                    [1,0]]) \n",
    "flippedReflection = np.matmul(fShape, flippedReflectionMatrix); # do the matrix mult\n",
    "drawVector([[fShape, \"red\"],[flippedReflection, \"blue\"]], 7)"
   ]
  },
  {
   "cell_type": "markdown",
   "metadata": {},
   "source": [
    "Though this might not look like a conventional \"reflection\" of the graphic over the x-axis as we are use to, flipping the `x` and `y` elements of a vector is the technical use of reflection in 2D graphics. By multiplying our \"F\" shape by the matrix `[0,1],[1,0]`. We can confirm this by printing the flipped reflection matrix:"
   ]
  },
  {
   "cell_type": "code",
   "execution_count": 40,
   "metadata": {},
   "outputs": [
    {
     "name": "stdout",
     "output_type": "stream",
     "text": [
      "[[0 0]\n",
      " [0 1]\n",
      " [2 1]\n",
      " [2 2]\n",
      " [3 2]\n",
      " [3 1]\n",
      " [4 1]\n",
      " [4 3]\n",
      " [5 3]\n",
      " [5 0]\n",
      " [0 0]]\n"
     ]
    }
   ],
   "source": [
    "print(flippedReflection)"
   ]
  },
  {
   "cell_type": "markdown",
   "metadata": {},
   "source": [
    "#### Shearing\n",
    "Shearing is defined as a transformation that slants the shape of an object. Shearing is often termed as \"skewing\" and can be achieved by utilizing the a<sub>12</sub> and a<sub>21</sub> elements of the matrix which our location vector is being multiplied. The following is known as an **X Shear** because it pushes all the points across the x-axis."
   ]
  },
  {
   "cell_type": "code",
   "execution_count": 43,
   "metadata": {
    "hide_input": true
   },
   "outputs": [
    {
     "data": {
      "text/latex": [
       "$$\n",
       "\\left(\\begin{array}{cc} 1 & s\\\\ 0 & 1 \\end{array}\\right) * \n",
       "\\left({\\begin{array}{cc} x \\\\ y \\end{array}}\\right)\n",
       "$$"
      ],
      "text/plain": [
       "<IPython.core.display.Latex object>"
      ]
     },
     "metadata": {},
     "output_type": "display_data"
    }
   ],
   "source": [
    "%%latex\n",
    "$$\n",
    "\\left(\\begin{array}{cc} 1 & s\\\\ 0 & 1 \\end{array}\\right) * \n",
    "\\left({\\begin{array}{cc} x \\\\ y \\end{array}}\\right)\n",
    "$$"
   ]
  },
  {
   "cell_type": "markdown",
   "metadata": {},
   "source": [
    "This matrix multiplication yields the following linear system:"
   ]
  },
  {
   "cell_type": "code",
   "execution_count": 47,
   "metadata": {
    "hide_input": true
   },
   "outputs": [
    {
     "data": {
      "text/latex": [
       "$$1x + sy = x + sy$$ \n",
       "$$0x + 1y = y$$"
      ],
      "text/plain": [
       "<IPython.core.display.Latex object>"
      ]
     },
     "metadata": {},
     "output_type": "display_data"
    }
   ],
   "source": [
    "%%latex\n",
    "$$1x + sy = x + sy$$ \n",
    "$$0x + 1y = y$$"
   ]
  },
  {
   "cell_type": "markdown",
   "metadata": {},
   "source": [
    "In this system `s` represents the \"amount\" of skewing we would like to achieve on the x-axis. A shearing transformation on the y-axis is called a **Y Shear**, and defined as the following:"
   ]
  },
  {
   "cell_type": "code",
   "execution_count": 50,
   "metadata": {
    "hide_input": true
   },
   "outputs": [
    {
     "data": {
      "text/latex": [
       "$$\n",
       "\\left(\\begin{array}{cc} 1 & 0\\\\ s & 1 \\end{array}\\right) * \n",
       "\\left({\\begin{array}{cc} x \\\\ y \\end{array}}\\right) =\n",
       "$$"
      ],
      "text/plain": [
       "<IPython.core.display.Latex object>"
      ]
     },
     "metadata": {},
     "output_type": "display_data"
    }
   ],
   "source": [
    "%%latex\n",
    "$$\n",
    "\\left(\\begin{array}{cc} 1 & 0\\\\ s & 1 \\end{array}\\right) * \n",
    "\\left({\\begin{array}{cc} x \\\\ y \\end{array}}\\right) =\n",
    "$$"
   ]
  },
  {
   "cell_type": "code",
   "execution_count": 51,
   "metadata": {
    "hide_input": true
   },
   "outputs": [
    {
     "data": {
      "text/latex": [
       "$$1x + 0y = x$$ \n",
       "$$sx + 1y = sx + y$$"
      ],
      "text/plain": [
       "<IPython.core.display.Latex object>"
      ]
     },
     "metadata": {},
     "output_type": "display_data"
    }
   ],
   "source": [
    "%%latex\n",
    "$$1x + 0y = x$$ \n",
    "$$sx + 1y = sx + y$$"
   ]
  },
  {
   "cell_type": "markdown",
   "metadata": {},
   "source": [
    "Now, let's attempt an X-Shear with a factor of 1.5(so the value of `s` will be 2) using the following matrix:"
   ]
  },
  {
   "cell_type": "code",
   "execution_count": 65,
   "metadata": {
    "hide_input": true
   },
   "outputs": [
    {
     "data": {
      "text/latex": [
       "$$\n",
       "\\left(\\begin{array}{cc} 1 & 1.5\\\\ 0 & 1 \\end{array}\\right)\n",
       "$$"
      ],
      "text/plain": [
       "<IPython.core.display.Latex object>"
      ]
     },
     "metadata": {},
     "output_type": "display_data"
    }
   ],
   "source": [
    "%%latex\n",
    "$$\n",
    "\\left(\\begin{array}{cc} 1 & 1.5\\\\ 0 & 1 \\end{array}\\right)\n",
    "$$"
   ]
  },
  {
   "cell_type": "code",
   "execution_count": 66,
   "metadata": {},
   "outputs": [
    {
     "data": {
      "image/png": "[encoded data removed]",
      "text/plain": [
       "<matplotlib.figure.Figure at 0x1138e6198>"
      ]
     },
     "metadata": {},
     "output_type": "display_data"
    }
   ],
   "source": [
    "shearMultMatrix = np.array([[1,1.5], # define the matrix we will multiply with\n",
    "                            [0,1]]) \n",
    "shearMatrix = np.matmul(fShape, shearMultMatrix); # do the matrix mult\n",
    "drawVector([[fShape, \"red\"],[shearMatrix, \"blue\"]], 10)"
   ]
  },
  {
   "cell_type": "markdown",
   "metadata": {},
   "source": [
    "Now, let's try a Y-Shear using s = 0.5:"
   ]
  },
  {
   "cell_type": "code",
   "execution_count": 71,
   "metadata": {
    "hide_input": true
   },
   "outputs": [
    {
     "data": {
      "text/latex": [
       "$$\n",
       "\\left(\\begin{array}{cc} 1 & 0\\\\ 0.5 & 1 \\end{array}\\right)\n",
       "$$"
      ],
      "text/plain": [
       "<IPython.core.display.Latex object>"
      ]
     },
     "metadata": {},
     "output_type": "display_data"
    }
   ],
   "source": [
    "%%latex\n",
    "$$\n",
    "\\left(\\begin{array}{cc} 1 & 0\\\\ 0.5 & 1 \\end{array}\\right)\n",
    "$$"
   ]
  },
  {
   "cell_type": "code",
   "execution_count": 72,
   "metadata": {},
   "outputs": [
    {
     "data": {
      "image/png": "[encoded data removed]",
      "text/plain": [
       "<matplotlib.figure.Figure at 0x1137f7dd8>"
      ]
     },
     "metadata": {},
     "output_type": "display_data"
    }
   ],
   "source": [
    "shearMultMatrix = np.array([[1,0], # define the matrix we will multiply with\n",
    "                            [0.5,1]]) \n",
    "shearMatrix = np.matmul(fShape, shearMultMatrix); # do the matrix mult\n",
    "drawVector([[fShape, \"red\"],[shearMatrix, \"blue\"]], 7)"
   ]
  },
  {
   "cell_type": "markdown",
   "metadata": {},
   "source": [
    "Notice that by choosing a Y-Shearing factor of 0.5, we have essentially \"moved\" all the x-axis points to the right by a factor of half of the y-axis height at that given location. We can view the result of the matrix multiplication by printing out the shear matrix:"
   ]
  },
  {
   "cell_type": "code",
   "execution_count": 73,
   "metadata": {},
   "outputs": [
    {
     "name": "stdout",
     "output_type": "stream",
     "text": [
      "[[ 0.   0. ]\n",
      " [ 1.   0. ]\n",
      " [ 2.   2. ]\n",
      " [ 3.   2. ]\n",
      " [ 3.5  3. ]\n",
      " [ 2.5  3. ]\n",
      " [ 3.   4. ]\n",
      " [ 5.   4. ]\n",
      " [ 5.5  5. ]\n",
      " [ 2.5  5. ]\n",
      " [ 0.   0. ]]\n"
     ]
    }
   ],
   "source": [
    "print(shearMatrix)"
   ]
  },
  {
   "cell_type": "code",
   "execution_count": null,
   "metadata": {
    "collapsed": true
   },
   "outputs": [],
   "source": []
  }
 ],
 "metadata": {
  "kernelspec": {
   "display_name": "Python 3",
   "language": "python",
   "name": "python3"
  },
  "language_info": {
   "codemirror_mode": {
    "name": "ipython",
    "version": 3
   },
   "file_extension": ".py",
   "mimetype": "text/x-python",
   "name": "python",
   "nbconvert_exporter": "python",
   "pygments_lexer": "ipython3",
   "version": "3.6.3"
  }
 },
 "nbformat": 4,
 "nbformat_minor": 2
}
